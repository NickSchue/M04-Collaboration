{
 "cells": [
  {
   "cell_type": "code",
   "execution_count": 3,
   "id": "5dd8af3f",
   "metadata": {},
   "outputs": [
    {
     "name": "stdout",
     "output_type": "stream",
     "text": [
      "Open 9-5 daily\n"
     ]
    }
   ],
   "source": [
    "#11.1 file called zoo\n",
    "from zoo import hours\n",
    "\n",
    "hours()"
   ]
  },
  {
   "cell_type": "code",
   "execution_count": 6,
   "id": "426dc429",
   "metadata": {},
   "outputs": [
    {
     "name": "stdout",
     "output_type": "stream",
     "text": [
      "Open 9-5 daily\n"
     ]
    }
   ],
   "source": [
    "#11.2 zoo menagerie\n",
    "from zoo import hours as menagerie\n",
    "\n",
    "menagerie()"
   ]
  },
  {
   "cell_type": "code",
   "execution_count": 32,
   "id": "2ec1d8a4",
   "metadata": {},
   "outputs": [
    {
     "name": "stdout",
     "output_type": "stream",
     "text": [
      "{'author': 'J R R Tolkien', 'book': 'The Hobbit'}\n",
      "{'author': 'Lynne Truss', 'book': 'Eats, Shoots & Leaves'}\n"
     ]
    }
   ],
   "source": [
    "#16\n",
    "csv_file = \"books.csv\"\n",
    "import csv\n",
    "with open(csv_file) as x:\n",
    "    reader = csv.DictReader(x)\n",
    "    for row in reader:\n",
    "        print(row)"
   ]
  },
  {
   "cell_type": "code",
   "execution_count": 33,
   "id": "36e53d94",
   "metadata": {},
   "outputs": [
    {
     "name": "stdout",
     "output_type": "stream",
     "text": [
      "{'title': 'The Weirdstone of Brisingamen', 'author': 'Alan Garner', 'year': '1960'}\n",
      "{'title': 'Perdido Street Station', 'author': 'China MiÃ©ville', 'year': '2000'}\n",
      "{'title': 'Thud!', 'author': 'Terry Pratchett', 'year': '2005'}\n",
      "{'title': 'The Spellman Files', 'author': 'Lisa Lutz', 'year': '2007'}\n",
      "{'title': 'Small Gods', 'author': 'Terry Pratchett', 'year': '1992'}\n"
     ]
    }
   ],
   "source": [
    "csv_file2 = \"books2.csv\"\n",
    "books2 = []\n",
    "import csv\n",
    "with open(csv_file2) as x:\n",
    "    reader = csv.DictReader(x)\n",
    "    for row in reader:\n",
    "        print(row)\n",
    "        books2.append(row)\n",
    "\n",
    "import sqlite3\n",
    "conn = sqlite3.connect('books.db')\n",
    "curs = conn.cursor()\n",
    "for book in books2:\n",
    "    curs.execute(\"INSERT INTO books VALUES (?, ?, ?)\", (book['title'], book['author'], int(book['year'])))\n",
    "conn.commit()\n",
    "conn.close()"
   ]
  },
  {
   "cell_type": "code",
   "execution_count": null,
   "id": "139b43c6",
   "metadata": {},
   "outputs": [],
   "source": []
  },
  {
   "cell_type": "code",
   "execution_count": 35,
   "id": "5fc7c592",
   "metadata": {},
   "outputs": [
    {
     "name": "stdout",
     "output_type": "stream",
     "text": [
      "('Perdido Street Station',)\n",
      "('Perdido Street Station',)\n",
      "('Small Gods',)\n",
      "('Small Gods',)\n",
      "('The Spellman Files',)\n",
      "('The Spellman Files',)\n",
      "('The Weirdstone of Brisingamen',)\n",
      "('The Weirdstone of Brisingamen',)\n",
      "('Thud!',)\n",
      "('Thud!',)\n"
     ]
    }
   ],
   "source": [
    "import sqlalchemy\n",
    "from sqlalchemy import text\n",
    "\n",
    "engine = sqlalchemy.create_engine('sqlite:///books.db')\n",
    "conn = engine.connect()\n",
    "result = text(\"SElECT title FROM books ORDER BY title ASC\")\n",
    "result = conn.execute(result)\n",
    "for row in result:\n",
    "    print(row)\n",
    "conn.close()"
   ]
  },
  {
   "cell_type": "code",
   "execution_count": null,
   "id": "1e60b585",
   "metadata": {},
   "outputs": [],
   "source": []
  }
 ],
 "metadata": {
  "kernelspec": {
   "display_name": "Python 3 (ipykernel)",
   "language": "python",
   "name": "python3"
  },
  "language_info": {
   "codemirror_mode": {
    "name": "ipython",
    "version": 3
   },
   "file_extension": ".py",
   "mimetype": "text/x-python",
   "name": "python",
   "nbconvert_exporter": "python",
   "pygments_lexer": "ipython3",
   "version": "3.11.5"
  }
 },
 "nbformat": 4,
 "nbformat_minor": 5
}
